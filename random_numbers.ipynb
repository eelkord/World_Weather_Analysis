{
 "cells": [
  {
   "cell_type": "code",
   "execution_count": 2,
   "id": "1530f587",
   "metadata": {},
   "outputs": [],
   "source": [
    "# Import the random module.\n",
    "import random"
   ]
  },
  {
   "cell_type": "code",
   "execution_count": 3,
   "id": "096c7d64",
   "metadata": {},
   "outputs": [
    {
     "data": {
      "text/plain": [
       "<module 'random' from '/Users/emadelkord/opt/anaconda3/envs/PythonData/lib/python3.7/random.py'>"
      ]
     },
     "execution_count": 3,
     "metadata": {},
     "output_type": "execute_result"
    }
   ],
   "source": [
    "random"
   ]
  },
  {
   "cell_type": "code",
   "execution_count": 4,
   "id": "4cfd96ab",
   "metadata": {},
   "outputs": [
    {
     "data": {
      "text/plain": [
       "1"
      ]
     },
     "execution_count": 4,
     "metadata": {},
     "output_type": "execute_result"
    }
   ],
   "source": [
    "round(random.random())"
   ]
  },
  {
   "cell_type": "code",
   "execution_count": 5,
   "id": "d162d767",
   "metadata": {},
   "outputs": [
    {
     "data": {
      "text/plain": [
       "42"
      ]
     },
     "execution_count": 5,
     "metadata": {},
     "output_type": "execute_result"
    }
   ],
   "source": [
    "random.randint(-90,90)"
   ]
  },
  {
   "cell_type": "code",
   "execution_count": 6,
   "id": "744283d8",
   "metadata": {},
   "outputs": [
    {
     "data": {
      "text/plain": [
       "-60.29838753020587"
      ]
     },
     "execution_count": 6,
     "metadata": {},
     "output_type": "execute_result"
    }
   ],
   "source": [
    "random_number = random.randint(-90,89) + random.random()\n",
    "random_number"
   ]
  },
  {
   "cell_type": "code",
   "execution_count": 7,
   "id": "95165294",
   "metadata": {},
   "outputs": [],
   "source": [
    "x = 1\n",
    "latitudes = []\n",
    "while x < 11:\n",
    "    random_lat = random.randint(-90, 89) + random.random()\n",
    "    latitudes.append(random_lat)\n",
    "    x += 1"
   ]
  },
  {
   "cell_type": "code",
   "execution_count": 8,
   "id": "2021d30a",
   "metadata": {},
   "outputs": [
    {
     "data": {
      "text/plain": [
       "-51.221048554569286"
      ]
     },
     "execution_count": 8,
     "metadata": {},
     "output_type": "execute_result"
    }
   ],
   "source": [
    "random_lat"
   ]
  },
  {
   "cell_type": "code",
   "execution_count": 9,
   "id": "8bded0b7",
   "metadata": {},
   "outputs": [
    {
     "data": {
      "text/plain": [
       "[-3.785680600198747,\n",
       " -18.813415273174154,\n",
       " 68.56355339622775,\n",
       " 11.990134092242869,\n",
       " -9.52857963475892,\n",
       " 48.683514518668595,\n",
       " -74.28335813586703,\n",
       " 69.80996434081739,\n",
       " 49.68946028739438,\n",
       " -51.221048554569286]"
      ]
     },
     "execution_count": 9,
     "metadata": {},
     "output_type": "execute_result"
    }
   ],
   "source": [
    "latitudes"
   ]
  },
  {
   "cell_type": "code",
   "execution_count": 10,
   "id": "d088f196",
   "metadata": {},
   "outputs": [
    {
     "data": {
      "text/plain": [
       "-54"
      ]
     },
     "execution_count": 10,
     "metadata": {},
     "output_type": "execute_result"
    }
   ],
   "source": [
    "random.randrange(-90, 90, step=1)"
   ]
  },
  {
   "cell_type": "code",
   "execution_count": 11,
   "id": "9f506212",
   "metadata": {},
   "outputs": [
    {
     "data": {
      "text/plain": [
       "30"
      ]
     },
     "execution_count": 11,
     "metadata": {},
     "output_type": "execute_result"
    }
   ],
   "source": [
    "random.randrange(-90, 90, step=3)"
   ]
  },
  {
   "cell_type": "code",
   "execution_count": 12,
   "id": "01edfde4",
   "metadata": {},
   "outputs": [
    {
     "data": {
      "text/plain": [
       "-14.681623261312936"
      ]
     },
     "execution_count": 12,
     "metadata": {},
     "output_type": "execute_result"
    }
   ],
   "source": [
    "random.uniform(-90,90)"
   ]
  },
  {
   "cell_type": "code",
   "execution_count": 13,
   "id": "51f97647",
   "metadata": {},
   "outputs": [],
   "source": [
    "# Import the NumPy module.\n",
    "import numpy as np"
   ]
  },
  {
   "cell_type": "code",
   "execution_count": 14,
   "id": "848385cf",
   "metadata": {},
   "outputs": [
    {
     "data": {
      "text/plain": [
       "-26.571210597025626"
      ]
     },
     "execution_count": 14,
     "metadata": {},
     "output_type": "execute_result"
    }
   ],
   "source": [
    "np.random.uniform(-90.000, 90.000)"
   ]
  },
  {
   "cell_type": "code",
   "execution_count": 15,
   "id": "4ac6d7c7",
   "metadata": {},
   "outputs": [
    {
     "data": {
      "text/plain": [
       "array([ 39.63746141, -74.20981996, -50.9887385 ,  49.55705615,\n",
       "       -74.05162959, -17.19375978,  14.03768555, -62.74121181,\n",
       "        79.90687394, -77.58745776,  -9.43190875,  69.4476002 ,\n",
       "        12.41431044,  75.10614874, -41.86457636,  75.09190173,\n",
       "        73.59469697, -57.35414281, -43.09842761,  10.44461865,\n",
       "       -63.42921604, -85.87083406, -44.46614293,  15.81384111,\n",
       "       -29.89152352,   3.25706819,  11.97962055, -46.09096557,\n",
       "       -33.82582931, -84.01777664, -59.05809032,  72.00924185,\n",
       "        12.93651474,  37.84985147, -16.62785421,  -0.74299177,\n",
       "        54.4182705 ,  11.54430127,  43.68418242,   4.63681125,\n",
       "       -28.4359864 ,   2.05099821,  50.18347029,  36.84343442,\n",
       "       -68.06125844,  12.49693544,  60.02894208,  65.4222131 ,\n",
       "        28.04957344,  20.02024372])"
      ]
     },
     "execution_count": 15,
     "metadata": {},
     "output_type": "execute_result"
    }
   ],
   "source": [
    "np.random.uniform(-90.000, 90.000, size=50)"
   ]
  },
  {
   "cell_type": "code",
   "execution_count": 16,
   "id": "1b559b6d",
   "metadata": {},
   "outputs": [],
   "source": [
    "# Import timeit.\n",
    "import timeit"
   ]
  },
  {
   "cell_type": "code",
   "execution_count": 17,
   "id": "de4f6a0b",
   "metadata": {},
   "outputs": [
    {
     "name": "stdout",
     "output_type": "stream",
     "text": [
      "12.8 µs ± 68.8 ns per loop (mean ± std. dev. of 7 runs, 100000 loops each)\n"
     ]
    }
   ],
   "source": [
    "%timeit np.random.uniform(-90.000, 90.000, size=1500)"
   ]
  },
  {
   "cell_type": "code",
   "execution_count": 20,
   "id": "eabd7e23",
   "metadata": {},
   "outputs": [
    {
     "name": "stdout",
     "output_type": "stream",
     "text": [
      "1.46 ms ± 13.4 µs per loop (mean ± std. dev. of 7 runs, 1000 loops each)\n"
     ]
    }
   ],
   "source": [
    "def latitudes(size):\n",
    "    latitudes = []\n",
    "    x = 0\n",
    "    while x < (size):\n",
    "        random_lat = random.randint(-90, 90) + random.random()\n",
    "        latitudes.append(random_lat)\n",
    "        x += 1\n",
    "    return latitudes\n",
    "# Call the function with 1500.\n",
    "random_lat\n",
    "%timeit latitudes(1500)"
   ]
  },
  {
   "cell_type": "code",
   "execution_count": 21,
   "id": "2b2c3d59",
   "metadata": {},
   "outputs": [
    {
     "data": {
      "text/plain": [
       "array([-79.16680996,   0.4990961 , -51.69460629, ..., -20.46461474,\n",
       "         6.83553208,  61.36602552])"
      ]
     },
     "execution_count": 21,
     "metadata": {},
     "output_type": "execute_result"
    }
   ],
   "source": [
    "np.random.uniform(-90.000, 90.000, size=1500)"
   ]
  },
  {
   "cell_type": "code",
   "execution_count": null,
   "id": "df4dc260",
   "metadata": {},
   "outputs": [],
   "source": []
  }
 ],
 "metadata": {
  "kernelspec": {
   "display_name": "PythonData",
   "language": "python",
   "name": "pythondata"
  },
  "language_info": {
   "codemirror_mode": {
    "name": "ipython",
    "version": 3
   },
   "file_extension": ".py",
   "mimetype": "text/x-python",
   "name": "python",
   "nbconvert_exporter": "python",
   "pygments_lexer": "ipython3",
   "version": "3.7.11"
  }
 },
 "nbformat": 4,
 "nbformat_minor": 5
}
